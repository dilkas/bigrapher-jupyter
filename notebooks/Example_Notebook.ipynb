{
 "cells": [
  {
   "cell_type": "code",
   "execution_count": null,
   "metadata": {},
   "outputs": [],
   "source": [
    "ctrl A = 1;\n",
    "ctrl A' = 1;\n",
    "ctrl Mail = 0;\n",
    "atomic ctrl M = 2;\n",
    "ctrl Snd = 0;\n",
    "ctrl Ready = 0;\n",
    "ctrl New = 0;\n",
    "ctrl Fun = 0;\n",
    "\n",
    "react snd =\n",
    "  A{a0}.Snd.(M{a1, v} | id) | Mail\n",
    "  -->\n",
    "  A{a0} | Mail.(M{a1, v} | id);\n",
    "\n",
    "react ready =\n",
    "  A{a}.Ready | Mail.(M{a, v} | id)\n",
    "  -->\n",
    "  A{a} | Mail | {v};\n",
    "\n",
    "react lambda = A{a}.Fun --> A{a};\n",
    "\n",
    "react new =\n",
    "  A{a0}.(New.(A'{a1} | id) | id)\n",
    "  -->\n",
    "  A{a0}.(id | id) | A{a1}.(id | id)\n",
    "  @ [1, 2, 0, 2];"
   ]
  },
  {
   "cell_type": "code",
   "execution_count": null,
   "metadata": {},
   "outputs": [],
   "source": [
    "big a0 = A{a}.Snd.(M{a, v_a} | Ready.Fun.1);\n",
    "big a1 = A{b}.Snd.M{a, v_b};\n",
    "big s0 = a0 | a1 | Mail.1;\n",
    "big phi = Mail.(M{a, v} | id);"
   ]
  },
  {
   "cell_type": "code",
   "execution_count": null,
   "metadata": {},
   "outputs": [],
   "source": [
    "%states\n",
    "\n",
    "begin brs\n",
    "  init s0;\n",
    "  rules = [ {snd, ready, lambda, new} ];\n",
    "  preds = { phi };\n",
    "end"
   ]
  },
  {
   "cell_type": "code",
   "execution_count": null,
   "metadata": {},
   "outputs": [],
   "source": [
    "%ocaml\n",
    "\n",
    "#require \"jupyter-archimedes\";;\n",
    "\n",
    "let vp = A.init ~w:560. ~h:260. [\"jupyter\"] in\n",
    "A.Axes.box vp;\n",
    "A.set_color vp A.Color.red;\n",
    "A.fx vp sin 0.0 10.0;\n",
    "A.close vp"
   ]
  },
  {
   "cell_type": "code",
   "execution_count": null,
   "metadata": {},
   "outputs": [],
   "source": []
  }
 ],
 "metadata": {
  "kernelspec": {
   "display_name": "BigraphER 1.7.0 (OCaml 4.06.0)",
   "language": "Big",
   "name": "ocaml-jupyter"
  },
  "language_info": {
   "codemirror_mode": "big",
   "file_extension": ".big",
   "mimetype": "text/x-big",
   "name": "Big",
   "nbconverter_exporter": null,
   "pygments_lexer": "Big",
   "version": "4.07.0"
  }
 },
 "nbformat": 4,
 "nbformat_minor": 2
}
